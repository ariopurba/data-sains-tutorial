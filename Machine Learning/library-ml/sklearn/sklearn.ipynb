{
 "cells": [
  {
   "cell_type": "code",
   "execution_count": 4,
   "id": "ecd9df6f",
   "metadata": {},
   "outputs": [
    {
     "name": "stdout",
     "output_type": "stream",
     "text": [
      "Data Pelatihan (setelah normalisasi):\n",
      "[[-1. -1.]\n",
      " [ 1.  1.]]\n",
      "\n",
      "Prediksi pada Data Pengujian: [1]\n",
      "Akurasi: 0.0\n",
      "Confusion Matrix:\n",
      " [[0 1]\n",
      " [0 0]]\n",
      "\n",
      "Cross-Validation Scores: [0.5 1. ]\n",
      "Rata-rata CV Score: 0.75\n",
      "\n",
      "Bobot Hidden Layer:\n",
      " [[-0.19308004  0.58381062]\n",
      " [ 0.31122582  0.08712041]]\n",
      "Bias Hidden Layer:\n",
      " [ 0.51009533 -0.70000965]\n",
      "Bobot Output Layer:\n",
      " [[-2.36039941]\n",
      " [-0.85967851]]\n",
      "Bias Output Layer:\n",
      " [-3.70211169]\n"
     ]
    },
    {
     "name": "stderr",
     "output_type": "stream",
     "text": [
      "c:\\Users\\ariop\\AppData\\Local\\Programs\\Python\\Python311\\Lib\\site-packages\\sklearn\\model_selection\\_split.py:805: UserWarning: The least populated class in y has only 1 members, which is less than n_splits=2.\n",
      "  warnings.warn(\n"
     ]
    }
   ],
   "source": [
    "import numpy as np\n",
    "from sklearn.neural_network import MLPClassifier\n",
    "from sklearn.preprocessing import StandardScaler\n",
    "from sklearn.model_selection import train_test_split, cross_val_score\n",
    "from sklearn.metrics import accuracy_score, confusion_matrix\n",
    "from sklearn.pipeline import Pipeline\n",
    "\n",
    "# Dataset\n",
    "X = np.array([[20, 30000], [30, 50000], [40, 70000]])\n",
    "y = np.array([0, 1, 1])\n",
    "\n",
    "# Langkah 1: Bagi data menjadi pelatihan dan pengujian\n",
    "X_train, X_test, y_train, y_test = train_test_split(X, y, test_size=0.33, random_state=42)\n",
    "\n",
    "# Langkah 2: Buat pipeline (preprocessing + model)\n",
    "pipeline = Pipeline([\n",
    "    ('scaler', StandardScaler()),  # Normalisasi data\n",
    "    ('mlp', MLPClassifier(hidden_layer_sizes=(2,), activation='logistic', \n",
    "                          solver='sgd', learning_rate_init=0.1, \n",
    "                          max_iter=1000, random_state=42))\n",
    "])\n",
    "\n",
    "# Langkah 3: Latih model\n",
    "pipeline.fit(X_train, y_train)\n",
    "\n",
    "# Langkah 4: Prediksi dan evaluasi\n",
    "y_pred = pipeline.predict(X_test)\n",
    "accuracy = accuracy_score(y_test, y_pred)\n",
    "conf_matrix = confusion_matrix(y_test, y_pred)\n",
    "\n",
    "# Langkah 5: Cross-validation\n",
    "cv_scores = cross_val_score(pipeline, X, y, cv=2, scoring='accuracy')\n",
    "\n",
    "# Cetak hasil\n",
    "print(\"Data Pelatihan (setelah normalisasi):\")\n",
    "print(pipeline.named_steps['scaler'].transform(X_train))\n",
    "print(\"\\nPrediksi pada Data Pengujian:\", y_pred)\n",
    "print(\"Akurasi:\", accuracy)\n",
    "print(\"Confusion Matrix:\\n\", conf_matrix)\n",
    "print(\"\\nCross-Validation Scores:\", cv_scores)\n",
    "print(\"Rata-rata CV Score:\", cv_scores.mean())\n",
    "\n",
    "# Langkah 6: Inspeksi bobot dan bias\n",
    "mlp = pipeline.named_steps['mlp']\n",
    "print(\"\\nBobot Hidden Layer:\\n\", mlp.coefs_[0])\n",
    "print(\"Bias Hidden Layer:\\n\", mlp.intercepts_[0])\n",
    "print(\"Bobot Output Layer:\\n\", mlp.coefs_[1])\n",
    "print(\"Bias Output Layer:\\n\", mlp.intercepts_[1])"
   ]
  }
 ],
 "metadata": {
  "kernelspec": {
   "display_name": "Python 3",
   "language": "python",
   "name": "python3"
  },
  "language_info": {
   "codemirror_mode": {
    "name": "ipython",
    "version": 3
   },
   "file_extension": ".py",
   "mimetype": "text/x-python",
   "name": "python",
   "nbconvert_exporter": "python",
   "pygments_lexer": "ipython3",
   "version": "3.11.3"
  }
 },
 "nbformat": 4,
 "nbformat_minor": 5
}
