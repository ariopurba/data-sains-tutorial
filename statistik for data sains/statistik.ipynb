{
 "cells": [
  {
   "cell_type": "markdown",
   "id": "e3e8fbf0",
   "metadata": {},
   "source": [
    "## Dataset yang digunakan:\n"
   ]
  },
  {
   "cell_type": "code",
   "execution_count": null,
   "id": "4916bc62",
   "metadata": {},
   "outputs": [],
   "source": [
    "data = [40, 50, 60, 30, 45, 90, 55, 60, 20, 65]"
   ]
  },
  {
   "cell_type": "markdown",
   "id": "6546df2e",
   "metadata": {},
   "source": [
    "## ✅ 1. **Statistik Deskriptif**\n",
    "\n",
    "### 🔹 a. Mean (Rata-rata)"
   ]
  },
  {
   "cell_type": "code",
   "execution_count": null,
   "id": "20858b40",
   "metadata": {},
   "outputs": [
    {
     "name": "stdout",
     "output_type": "stream",
     "text": [
      "Mean: 51.5\n"
     ]
    }
   ],
   "source": [
    "data = [40, 50, 60, 30, 45, 90, 55, 60, 20, 65]\n",
    "n = len(data)\n",
    "mean = sum(data) / n\n",
    "print(\"Mean:\", mean)"
   ]
  },
  {
   "cell_type": "markdown",
   "id": "6156d0ff",
   "metadata": {},
   "source": [
    "### 🔹 b. Median"
   ]
  },
  {
   "cell_type": "code",
   "execution_count": null,
   "id": "256843b0",
   "metadata": {},
   "outputs": [
    {
     "name": "stdout",
     "output_type": "stream",
     "text": [
      "Median: 52.5\n"
     ]
    }
   ],
   "source": [
    "data_sorted = sorted(data)\n",
    "if n % 2 == 0:\n",
    "    mid1 = data_sorted[n//2 - 1]\n",
    "    mid2 = data_sorted[n//2]\n",
    "    median = (mid1 + mid2) / 2\n",
    "else:\n",
    "    median = data_sorted[n//2]\n",
    "print(\"Median:\", median)"
   ]
  },
  {
   "cell_type": "markdown",
   "id": "cbc08a19",
   "metadata": {},
   "source": [
    "### 🔹 c. Modus (paling sering muncul)\n"
   ]
  },
  {
   "cell_type": "code",
   "execution_count": 18,
   "id": "e7217cee",
   "metadata": {},
   "outputs": [
    {
     "name": "stdout",
     "output_type": "stream",
     "text": [
      "Modus: 60\n"
     ]
    }
   ],
   "source": [
    "frequencies = {}\n",
    "for value in data:\n",
    "    frequencies[value] = frequencies.get(value, 0) + 1\n",
    "modus = max(frequencies, key=frequencies.get)\n",
    "print(\"Modus:\", modus)\n"
   ]
  },
  {
   "cell_type": "markdown",
   "id": "0d182992",
   "metadata": {},
   "source": [
    "### 🔹 d. Range"
   ]
  },
  {
   "cell_type": "code",
   "execution_count": 19,
   "id": "f1e9fefe",
   "metadata": {},
   "outputs": [
    {
     "name": "stdout",
     "output_type": "stream",
     "text": [
      "Range: 70\n"
     ]
    }
   ],
   "source": [
    "range_val = max(data) - min(data)\n",
    "print(\"Range:\", range_val)\n"
   ]
  },
  {
   "cell_type": "markdown",
   "id": "f7f1f592",
   "metadata": {},
   "source": [
    "### 🔹 e. Variance dan Standard Deviation"
   ]
  },
  {
   "cell_type": "code",
   "execution_count": 25,
   "id": "46718cda",
   "metadata": {},
   "outputs": [
    {
     "name": "stdout",
     "output_type": "stream",
     "text": [
      "Variance: 345.25\n",
      "Standard Deviation: 18.580904176062045\n"
     ]
    }
   ],
   "source": [
    "# Variance\n",
    "var = sum((x - mean)**2 for x in data) / n\n",
    "# Std Deviasi\n",
    "std_dev = var ** 0.5\n",
    "print(\"Variance:\", var)\n",
    "print(\"Standard Deviation:\", std_dev)\n"
   ]
  },
  {
   "cell_type": "markdown",
   "id": "f764691b",
   "metadata": {},
   "source": [
    "## ✅ 2. **Probabilitas Dasar**\n",
    "\n",
    "### 🔹 a. Probabilitas user menonton > 50 menit"
   ]
  },
  {
   "cell_type": "code",
   "execution_count": 21,
   "id": "591fc402",
   "metadata": {},
   "outputs": [
    {
     "name": "stdout",
     "output_type": "stream",
     "text": [
      "P(X > 50): 0.5\n"
     ]
    }
   ],
   "source": [
    "count = sum(1 for x in data if x > 50)\n",
    "prob_gt_50 = count / n\n",
    "print(\"P(X > 50):\", prob_gt_50)\n"
   ]
  },
  {
   "cell_type": "markdown",
   "id": "94970d6c",
   "metadata": {},
   "source": [
    "### 🔹 b. Probabilitas user menonton tepat 60 menit"
   ]
  },
  {
   "cell_type": "code",
   "execution_count": 22,
   "id": "453ec774",
   "metadata": {},
   "outputs": [
    {
     "name": "stdout",
     "output_type": "stream",
     "text": [
      "P(X = 60): 0.2\n"
     ]
    }
   ],
   "source": [
    "count_60 = data.count(60)\n",
    "prob_60 = count_60 / n\n",
    "print(\"P(X = 60):\", prob_60)\n"
   ]
  },
  {
   "cell_type": "markdown",
   "id": "4832c07d",
   "metadata": {},
   "source": [
    "## 3. **Distribusi Normal & Z-Score**\n",
    "\n",
    "### 🔹 a. Hitung Z-Score untuk nilai tertentu (misal 90)"
   ]
  },
  {
   "cell_type": "code",
   "execution_count": 23,
   "id": "a028d417",
   "metadata": {},
   "outputs": [
    {
     "name": "stdout",
     "output_type": "stream",
     "text": [
      "Z-score for 90 minutes: 2.0720197270916403\n"
     ]
    }
   ],
   "source": [
    "x = 90\n",
    "z_score = (x - mean) / std_dev\n",
    "print(\"Z-score for 90 minutes:\", z_score)\n"
   ]
  },
  {
   "cell_type": "markdown",
   "id": "79fc18fd",
   "metadata": {},
   "source": [
    "### 🔹 b. Estimasi probabilitas menggunakan tabel Z (gunakan pendekatan untuk belajar)\n",
    "\n",
    "Untuk keperluan pembelajaran kita bisa buat pendekatan:"
   ]
  },
  {
   "cell_type": "code",
   "execution_count": 24,
   "id": "34bc72f5",
   "metadata": {},
   "outputs": [
    {
     "name": "stdout",
     "output_type": "stream",
     "text": [
      "P(X < 90): 0.9808681992399926\n"
     ]
    }
   ],
   "source": [
    "# Estimasi dengan pendekatan tabel Z menggunakan built-in math.erf (error function)\n",
    "import math\n",
    "\n",
    "def normal_cdf(x, mean, std):\n",
    "    z = (x - mean) / (std * (2**0.5))\n",
    "    return 0.5 * (1 + math.erf(z))\n",
    "\n",
    "# P(X < 90)\n",
    "p_less_90 = normal_cdf(90, mean, std_dev)\n",
    "print(\"P(X < 90):\", p_less_90)\n"
   ]
  },
  {
   "cell_type": "code",
   "execution_count": null,
   "id": "510b9628",
   "metadata": {},
   "outputs": [],
   "source": []
  }
 ],
 "metadata": {
  "kernelspec": {
   "display_name": "Python 3",
   "language": "python",
   "name": "python3"
  },
  "language_info": {
   "codemirror_mode": {
    "name": "ipython",
    "version": 3
   },
   "file_extension": ".py",
   "mimetype": "text/x-python",
   "name": "python",
   "nbconvert_exporter": "python",
   "pygments_lexer": "ipython3",
   "version": "3.11.3"
  }
 },
 "nbformat": 4,
 "nbformat_minor": 5
}
