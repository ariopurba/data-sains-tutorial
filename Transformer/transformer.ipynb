{
 "cells": [
  {
   "cell_type": "code",
   "execution_count": null,
   "id": "f0e94b08",
   "metadata": {},
   "outputs": [],
   "source": [
    "#!pip install transformers"
   ]
  },
  {
   "cell_type": "code",
   "execution_count": null,
   "id": "850622db",
   "metadata": {},
   "outputs": [],
   "source": [
    "import numpy as np\n",
    "from transformers import BertTokenizer, TFBertForSequenceClassification\n",
    "import tensorflow as tf\n",
    "from sklearn.metrics import accuracy_score\n",
    "\n",
    "# Dataset sederhana\n",
    "texts = [\"I love this movie!\", \"This movie is terrible.\", \"Great acting and story.\", \"Very boring film.\"]\n",
    "labels = [1, 0, 1, 0]  # 1 = Positif, 0 = Negatif\n",
    "\n",
    "# Langkah 1: Load tokenizer dan model\n",
    "tokenizer = BertTokenizer.from_pretrained('bert-base-uncased')\n",
    "model = TFBertForSequenceClassification.from_pretrained('bert-base-uncased', num_labels=2)\n",
    "\n",
    "# Langkah 2: Tokenisasi data\n",
    "inputs = tokenizer(texts, padding=True, truncation=True, return_tensors='tf', max_length=128)\n",
    "input_ids = inputs['input_ids']\n",
    "attention_mask = inputs['attention_mask']\n",
    "labels = tf.convert_to_tensor(labels)\n",
    "\n",
    "# Langkah 3: Kompilasi model\n",
    "optimizer = tf.keras.optimizers.Adam(learning_rate=2e-5)\n",
    "model.compile(optimizer=optimizer, loss=tf.keras.losses.SparseCategoricalCrossentropy(from_logits=True), metrics=['accuracy'])\n",
    "\n",
    "# Langkah 4: Fine-tune model\n",
    "model.fit({'input_ids': input_ids, 'attention_mask': attention_mask}, labels, epochs=3, batch_size=2, verbose=1)\n",
    "\n",
    "# Langkah 5: Prediksi\n",
    "logits = model.predict({'input_ids': input_ids, 'attention_mask': attention_mask})[0]\n",
    "y_pred = np.argmax(logits, axis=1)\n",
    "accuracy = accuracy_score(labels, y_pred)\n",
    "\n",
    "# Langkah 6: Prediksi pada kalimat baru\n",
    "new_text = [\"This film is amazing!\"]\n",
    "new_inputs = tokenizer(new_text, padding=True, truncation=True, return_tensors='tf', max_length=128)\n",
    "new_logits = model.predict({'input_ids': new_inputs['input_ids'], 'attention_mask': new_inputs['attention_mask']})[0]\n",
    "new_pred = np.argmax(new_logits, axis=1)\n",
    "\n",
    "# Cetak hasil\n",
    "print(\"\\n=== Hasil Evaluasi ===\")\n",
    "print(\"Prediksi:\", y_pred)\n",
    "print(\"Akurasi:\", accuracy)\n",
    "print(\"\\n=== Prediksi Kalimat Baru ===\")\n",
    "print(\"Kalimat:\", new_text[0])\n",
    "print(\"Sentimen:\", \"Positif\" if new_pred[0] == 1 else \"Negatif\")"
   ]
  }
 ],
 "metadata": {
  "kernelspec": {
   "display_name": "Python 3",
   "language": "python",
   "name": "python3"
  },
  "language_info": {
   "codemirror_mode": {
    "name": "ipython",
    "version": 3
   },
   "file_extension": ".py",
   "mimetype": "text/x-python",
   "name": "python",
   "nbconvert_exporter": "python",
   "pygments_lexer": "ipython3",
   "version": "3.11.3"
  }
 },
 "nbformat": 4,
 "nbformat_minor": 5
}
